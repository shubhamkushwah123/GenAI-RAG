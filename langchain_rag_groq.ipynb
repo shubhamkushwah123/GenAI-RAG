{
  "cells": [
    {
      "cell_type": "markdown",
      "metadata": {},
      "source": [
        "# Step 0 - Setup & Installation\n",
        "Install required libraries. Run this only once."
      ]
    },
    {
      "cell_type": "code",
      "execution_count": 1,
      "metadata": {},
      "outputs": [
        {
          "name": "stdout",
          "output_type": "stream",
          "text": [
            "Note: you may need to restart the kernel to use updated packages.\n"
          ]
        }
      ],
      "source": [
        "%pip install --quiet langchain langchain-groq langchain-community pypdf faiss-cpu tiktoken"
      ]
    },
    {
      "cell_type": "markdown",
      "metadata": {},
      "source": [
        "# Step 1 - Set API Key & Basic Imports\n",
        "We'll import basic tools and get your GROQ API key.\n",
        "\n",
        "Key = "Paste your own key in below code snippet."
      ]
    },
    {
      "cell_type": "code",
      "execution_count": 2,
      "metadata": {},
      "outputs": [],
      "source": [
        "import os\n",
        "from getpass import getpass\n",
        "\n",
        "if \"GROQ_API_KEY\" not in os.environ:\n",
        "   # os.environ[\"GROQ_API_KEY\"] = getpass(\"Enter your Groq API key: \")\n",
        "   #os.environ[\"GROQ_API_KEY\"] = input(\"Enter your Groq API key: \")\n",
        "   os.environ[\"GROQ_API_KEY\"] = \"Paste your own Groq API Key here.."\n"
      ]
    },
    {
      "cell_type": "markdown",
      "metadata": {},
      "source": [
        "# Step 2 - Load PDF or Text Document\n",
        "Choose a file and load the document into memory."
      ]
    },
    {
      "cell_type": "code",
      "execution_count": null,
      "metadata": {},
      "outputs": [
        {
          "name": "stdout",
          "output_type": "stream",
          "text": [
            "Number of docs loaded: 5\n",
            "First 300 characters from the first document:\n",
            "\n",
            "Tata Consultancy Services\n",
            "Company Overview\n",
            "Prepared  May 2025\n"
          ]
        }
      ],
      "source": [
        "from langchain_community.document_loaders import PyPDFLoader, TextLoader\n",
        "\n",
        "# Choose ONE loader:\n",
        "docs = PyPDFLoader(\"documents/generative_ai_masters_program.pdf\").load()\n",
        "# docs = TextLoader(\"sample_docs/finance_report.txt\").load()\n",
        "\n",
        "# Check if any documents were loaded\n",
        "if docs:\n",
        "    print(f\"Number of docs loaded: {len(docs)}\")\n",
        "    print(\"First 300 characters from the first document:\\n\")\n",
        "    print(docs[0].page_content[:300])\n",
        "else:\n",
        "    print(\"❌ No documents loaded. Please check the file path or format.\")\n"
      ]
    },
    {
      "cell_type": "markdown",
      "metadata": {},
      "source": [
        "# Step 3 - Split Document into Chunks\n",
        "Use LangChain's text splitter for manageable chunks."
      ]
    },
    {
      "cell_type": "code",
      "execution_count": 5,
      "id": "8bbc2d23",
      "metadata": {},
      "outputs": [
        {
          "name": "stdout",
          "output_type": "stream",
          "text": [
            "len(chunks)=7\n",
            "(2021)  CEO: K. Krithivasan   |   Chairman: N. Chandrasekaran\n"
          ]
        }
      ],
      "source": [
        "from langchain.text_splitter import RecursiveCharacterTextSplitter\n",
        "\n",
        "splitter = RecursiveCharacterTextSplitter(chunk_size=500, chunk_overlap=10)\n",
        "chunks = splitter.split_documents(docs)\n",
        "print(f\"{len(chunks)=}\")\n",
        "print(chunks[2].page_content[:200])\n"
      ]
    },
    {
      "cell_type": "markdown",
      "metadata": {},
      "source": [
        "# Step 4 - Generate Embeddings\n",
        "We'll embed each chunk using a free HuggingFace model."
      ]
    },
    {
      "cell_type": "code",
      "execution_count": 6,
      "metadata": {},
      "outputs": [
        {
          "name": "stderr",
          "output_type": "stream",
          "text": [
            "/var/folders/92/cvhmsl8j40v54vqpcc2lmx300000gn/T/ipykernel_21292/3596920977.py:3: LangChainDeprecationWarning: The class `HuggingFaceEmbeddings` was deprecated in LangChain 0.2.2 and will be removed in 1.0. An updated version of the class exists in the :class:`~langchain-huggingface package and should be used instead. To use it run `pip install -U :class:`~langchain-huggingface` and import as `from :class:`~langchain_huggingface import HuggingFaceEmbeddings``.\n",
            "  emb_model = HuggingFaceEmbeddings(model_name=\"sentence-transformers/all-MiniLM-L6-v2\")\n"
          ]
        },
        {
          "name": "stdout",
          "output_type": "stream",
          "text": [
            "First 10 values: [-0.019197886809706688, 5.7123659644275904e-05, 0.08784320205450058, 0.04598033055663109, -0.013504534028470516, -0.0670323446393013, 0.053682781755924225, -0.011446927674114704, -0.1185838058590889, 0.0400349497795105, -0.02277040295302868, 0.0030739447101950645, -0.014276538044214249, -0.0035772265400737524, 0.014626548625528812, -0.05336032807826996, 0.09132969379425049, -0.09452130645513535, -0.09354307502508163, 0.05827532336115837]\n",
            "Vector length: 384\n"
          ]
        }
      ],
      "source": [
        "from langchain_community.embeddings import HuggingFaceEmbeddings\n",
        "\n",
        "emb_model = HuggingFaceEmbeddings(model_name=\"sentence-transformers/all-MiniLM-L6-v2\")\n",
        "sample_vec = emb_model.embed_query(\"how are you;\")\n",
        "\n",
        "print(\"First 10 values:\", sample_vec[:20])\n",
        "print(\"Vector length:\", len(sample_vec))\n"
      ]
    },
    {
      "cell_type": "markdown",
      "metadata": {},
      "source": [
        "# Step 5 - Store Embeddings in FAISS\n",
        "We'll use FAISS for fast similarity search.\n",
        "\n",
        "FAISS (Facebook AI Similarity Search) is a library designed for efficient similarity search and clustering of dense vectors.\n"
      ]
    },
    {
      "cell_type": "code",
      "execution_count": 7,
      "metadata": {},
      "outputs": [],
      "source": [
        "from langchain_community.vectorstores import FAISS\n",
        "\n",
        "#Then this is where your chunks are converted into vectors.\n",
        "vectordb = FAISS.from_documents(chunks, emb_model)\n",
        "\n",
        "\n",
        "retriever = vectordb.as_retriever(search_kwargs={\"k\": 2})\n"
      ]
    },
    {
      "cell_type": "markdown",
      "id": "db47651a",
      "metadata": {},
      "source": [
        "chunks (Document list)\n",
        " ↓\n",
        " \n",
        "[chunk 1] → embedding → vector 1\n",
        "\n",
        "[chunk 2] → embedding → vector 2\n",
        "\n",
        "[chunk 3] → embedding → vector 3\n",
        "\n",
        "   ↓\n",
        "\n",
        "stored in FAISS vector index\n",
        "\n",
        "\n",
        "✅ This makes it possible to query the vector database using a natural language sentence.\n",
        "\n",
        "as_retriever() wraps the FAISS store in a standard LangChain interface.\n",
        "\n",
        "search_kwargs={\"k\": 2} means:\n",
        "\n",
        "When a query is made, return the top 2 most similar chunks.\n",
        "\n"
      ]
    },
    {
      "cell_type": "markdown",
      "metadata": {},
      "source": [
        "# Step 6 - Connect to Groq LLM\n",
        "Use Groq's OpenAI-compatible chat model."
      ]
    },
    {
      "cell_type": "code",
      "execution_count": 8,
      "metadata": {},
      "outputs": [],
      "source": [
        "from langchain_groq import ChatGroq\n",
        "\n",
        "llm = ChatGroq(model_name=\"llama3-8b-8192\")\n"
      ]
    },
    {
      "cell_type": "markdown",
      "metadata": {},
      "source": [
        "# Step 7 - Build RAG Chain\n",
        "Use LangChain's RetrievalQA for simple Q&A over documents.\n",
        "\n",
        "🔍 This Constructs a RAG Pipeline:\n",
        "llm=llm\n",
        "The language model (e.g., ChatOpenAI, HuggingFaceHub, etc.) used to generate answers.\n",
        "\n",
        "chain_type=\"stuff\"\n",
        "Tells LangChain how to feed documents to the LLM:\n",
        "\n",
        "\"stuff\" means it \"stuffs\" all retrieved documents into the prompt as-is.\n",
        "\n",
        "Other types include \"map_reduce\", \"refine\", etc., for larger/more complex input.\n",
        "\n",
        "retriever=retriever\n",
        "Uses your earlier retriever (retriever = vectordb.as_retriever(...)) to fetch relevant chunks based on the user’s query.\n",
        "\n",
        "return_source_documents=True\n",
        "Instructs LangChain to also return the source documents used for answering — useful for transparency or debugging."
      ]
    },
    {
      "cell_type": "code",
      "execution_count": 9,
      "metadata": {},
      "outputs": [],
      "source": [
        "from langchain.chains import RetrievalQA\n",
        "\n",
        "rag = RetrievalQA.from_chain_type(\n",
        "    llm=llm,\n",
        "    chain_type=\"stuff\",\n",
        "    retriever=retriever,\n",
        "    return_source_documents=True\n",
        ")\n"
      ]
    },
    {
      "cell_type": "markdown",
      "metadata": {},
      "source": [
        "# Step 8 - Ask Questions\n",
        "Now you're ready to chat with your PDF or text document!\n",
        "\n",
        "Sends the user's query to your RAG pipeline (RetrievalQA object named rag).\n",
        "Internally:\n",
        "The retriever finds relevant chunks.\n",
        "The LLM generates an answer from those chunks.\n",
        "You get back a dictionary with:\n",
        "\"result\" → the answer\n",
        "\"source_documents\" → the chunks used"
      ]
    },
    {
      "cell_type": "code",
      "execution_count": null,
      "metadata": {},
      "outputs": [
        {
          "name": "stderr",
          "output_type": "stream",
          "text": [
            "/var/folders/92/cvhmsl8j40v54vqpcc2lmx300000gn/T/ipykernel_21292/4167222955.py:8: LangChainDeprecationWarning: The method `Chain.__call__` was deprecated in langchain 0.1.0 and will be removed in 1.0. Use :meth:`~invoke` instead.\n",
            "  result = rag(query)\n"
          ]
        },
        {
          "name": "stdout",
          "output_type": "stream",
          "text": [
            "\n",
            "📝  Answer:\n",
            " TCS stands for Tata Consultancy Services, which is a multinational information technology (IT) consulting and services company.\n",
            "\n",
            "📄  Sources used:\n",
            " • Services  Proprietary Products & Platforms: TCS■BaNCS, ADD, Quartz, ignio™, etc. | {'producer': 'ReportLab PDF Library - www.reportlab.com', 'creator': 'ReportLab PDF Library - www.reportlab.com', 'creationdate': '2025-05-27T21:48:54+00:00', 'author': 'anonymous', 'keywords': '', 'moddate': '2025-05-27T21:48:54+00:00', 'subject': 'unspecified', 'title': 'untitled', 'trapped': '/False', 'source': 'documents/tcs.pdf', 'total_pages': 5, 'page': 2, 'page_label': '3'}\n",
            " • 4 Recent Developments & Strategic Direction  Accelerated digital transformation [...] | {'producer': 'ReportLab PDF Library - www.reportlab.com', 'creator': 'ReportLab PDF Library - www.reportlab.com', 'creationdate': '2025-05-27T21:48:54+00:00', 'author': 'anonymous', 'keywords': '', 'moddate': '2025-05-27T21:48:54+00:00', 'subject': 'unspecified', 'title': 'untitled', 'trapped': '/False', 'source': 'documents/tcs.pdf', 'total_pages': 5, 'page': 4, 'page_label': '5'}\n",
            "\n",
            "📝  Answer:\n",
            " TCS stands for Tata Consultancy Services, which is a multinational information technology services and consulting company based in India.\n",
            "\n",
            "📄  Sources used:\n",
            " • Services  Proprietary Products & Platforms: TCS■BaNCS, ADD, Quartz, ignio™, etc. | {'producer': 'ReportLab PDF Library - www.reportlab.com', 'creator': 'ReportLab PDF Library - www.reportlab.com', 'creationdate': '2025-05-27T21:48:54+00:00', 'author': 'anonymous', 'keywords': '', 'moddate': '2025-05-27T21:48:54+00:00', 'subject': 'unspecified', 'title': 'untitled', 'trapped': '/False', 'source': 'documents/tcs.pdf', 'total_pages': 5, 'page': 2, 'page_label': '3'}\n",
            " • 4 Recent Developments & Strategic Direction  Accelerated digital transformation [...] | {'producer': 'ReportLab PDF Library - www.reportlab.com', 'creator': 'ReportLab PDF Library - www.reportlab.com', 'creationdate': '2025-05-27T21:48:54+00:00', 'author': 'anonymous', 'keywords': '', 'moddate': '2025-05-27T21:48:54+00:00', 'subject': 'unspecified', 'title': 'untitled', 'trapped': '/False', 'source': 'documents/tcs.pdf', 'total_pages': 5, 'page': 4, 'page_label': '5'}\n",
            "\n",
            "📝  Answer:\n",
            " I'm just an AI, I don't have feelings or emotions like humans do, so I don't have a personal state of being. I'm here to assist you with your questions and provide information to the best of my ability. How can I help you today?\n",
            "\n",
            "📄  Sources used:\n",
            " • (2021)  CEO: K. Krithivasan | Chairman: N. Chandrasekaran | {'producer': 'ReportLab PDF Library - www.reportlab.com', 'creator': 'ReportLab PDF Library - www.reportlab.com', 'creationdate': '2025-05-27T21:48:54+00:00', 'author': 'anonymous', 'keywords': '', 'moddate': '2025-05-27T21:48:54+00:00', 'subject': 'unspecified', 'title': 'untitled', 'trapped': '/False', 'source': 'documents/tcs.pdf', 'total_pages': 5, 'page': 1, 'page_label': '2'}\n",
            " • 3 Financial Highlights (US■$) FY■2024 (ended■31■Mar■2024):  Revenue: [...] | {'producer': 'ReportLab PDF Library - www.reportlab.com', 'creator': 'ReportLab PDF Library - www.reportlab.com', 'creationdate': '2025-05-27T21:48:54+00:00', 'author': 'anonymous', 'keywords': '', 'moddate': '2025-05-27T21:48:54+00:00', 'subject': 'unspecified', 'title': 'untitled', 'trapped': '/False', 'source': 'documents/tcs.pdf', 'total_pages': 5, 'page': 3, 'page_label': '4'}\n",
            "\n",
            "📝  Answer:\n",
            " Please provide a question or topic you would like to discuss, and I'll do my best to provide a helpful and accurate response.\n",
            "\n",
            "📄  Sources used:\n",
            " • (2021)  CEO: K. Krithivasan | Chairman: N. Chandrasekaran | {'producer': 'ReportLab PDF Library - www.reportlab.com', 'creator': 'ReportLab PDF Library - www.reportlab.com', 'creationdate': '2025-05-27T21:48:54+00:00', 'author': 'anonymous', 'keywords': '', 'moddate': '2025-05-27T21:48:54+00:00', 'subject': 'unspecified', 'title': 'untitled', 'trapped': '/False', 'source': 'documents/tcs.pdf', 'total_pages': 5, 'page': 1, 'page_label': '2'}\n",
            " • Services  Proprietary Products & Platforms: TCS■BaNCS, ADD, Quartz, ignio™, etc. | {'producer': 'ReportLab PDF Library - www.reportlab.com', 'creator': 'ReportLab PDF Library - www.reportlab.com', 'creationdate': '2025-05-27T21:48:54+00:00', 'author': 'anonymous', 'keywords': '', 'moddate': '2025-05-27T21:48:54+00:00', 'subject': 'unspecified', 'title': 'untitled', 'trapped': '/False', 'source': 'documents/tcs.pdf', 'total_pages': 5, 'page': 2, 'page_label': '3'}\n",
            "\n",
            "📝  Answer:\n",
            " It appears that you have entered a company overview for Tata Consultancy Services (TCS). The overview mentions their proprietary products and platforms, including BaNCS, ADD, Quartz, and ignio. Would you like to know more about a specific product or platform?\n",
            "\n",
            "📄  Sources used:\n",
            " • Services  Proprietary Products & Platforms: TCS■BaNCS, ADD, Quartz, ignio™, etc. | {'producer': 'ReportLab PDF Library - www.reportlab.com', 'creator': 'ReportLab PDF Library - www.reportlab.com', 'creationdate': '2025-05-27T21:48:54+00:00', 'author': 'anonymous', 'keywords': '', 'moddate': '2025-05-27T21:48:54+00:00', 'subject': 'unspecified', 'title': 'untitled', 'trapped': '/False', 'source': 'documents/tcs.pdf', 'total_pages': 5, 'page': 2, 'page_label': '3'}\n",
            " • Tata Consultancy Services Company Overview Prepared  May 2025 | {'producer': 'ReportLab PDF Library - www.reportlab.com', 'creator': 'ReportLab PDF Library - www.reportlab.com', 'creationdate': '2025-05-27T21:48:54+00:00', 'author': 'anonymous', 'keywords': '', 'moddate': '2025-05-27T21:48:54+00:00', 'subject': 'unspecified', 'title': 'untitled', 'trapped': '/False', 'source': 'documents/tcs.pdf', 'total_pages': 5, 'page': 0, 'page_label': '1'}\n",
            "\n",
            "📝  Answer:\n",
            " I'm just an AI, so I don't have feelings or emotions like humans do. I'm functioning properly and ready to assist with any questions you may have!\n",
            "\n",
            "📄  Sources used:\n",
            " • (2021)  CEO: K. Krithivasan | Chairman: N. Chandrasekaran | {'producer': 'ReportLab PDF Library - www.reportlab.com', 'creator': 'ReportLab PDF Library - www.reportlab.com', 'creationdate': '2025-05-27T21:48:54+00:00', 'author': 'anonymous', 'keywords': '', 'moddate': '2025-05-27T21:48:54+00:00', 'subject': 'unspecified', 'title': 'untitled', 'trapped': '/False', 'source': 'documents/tcs.pdf', 'total_pages': 5, 'page': 1, 'page_label': '2'}\n",
            " • 3 Financial Highlights (US■$) FY■2024 (ended■31■Mar■2024):  Revenue: [...] | {'producer': 'ReportLab PDF Library - www.reportlab.com', 'creator': 'ReportLab PDF Library - www.reportlab.com', 'creationdate': '2025-05-27T21:48:54+00:00', 'author': 'anonymous', 'keywords': '', 'moddate': '2025-05-27T21:48:54+00:00', 'subject': 'unspecified', 'title': 'untitled', 'trapped': '/False', 'source': 'documents/tcs.pdf', 'total_pages': 5, 'page': 3, 'page_label': '4'}\n"
          ]
        }
      ],
      "source": [
        "import textwrap\n",
        "\n",
        "while True:\n",
        "    query = input(\"\\n❓  Ask a question (or 'q' to quit): \")\n",
        "    if query.lower().startswith(\"q\"):\n",
        "        break\n",
        "\n",
        "    result = rag(query)\n",
        "    #It retrives the chunks\n",
        "    #LLM generates an Answer from those chunks\n",
        "    # result contains the source documentations the chunks used.\n",
        "    print(\"\\n📝  Answer:\\n\", result[\"result\"])\n",
        "    print(\"\\n📄  Sources used:\")\n",
        "    for doc in result[\"source_documents\"]:\n",
        "        print(\" •\", textwrap.shorten(doc.page_content, 90), \"|\", doc.metadata)\n"
      ]
    },
    {
      "cell_type": "code",
      "execution_count": null,
      "id": "4abf4117",
      "metadata": {},
      "outputs": [],
      "source": []
    }
  ],
  "metadata": {
    "kernelspec": {
      "display_name": ".venv",
      "language": "python",
      "name": "python3"
    },
    "language_info": {
      "codemirror_mode": {
        "name": "ipython",
        "version": 3
      },
      "file_extension": ".py",
      "mimetype": "text/x-python",
      "name": "python",
      "nbconvert_exporter": "python",
      "pygments_lexer": "ipython3",
      "version": "3.11.5"
    }
  },
  "nbformat": 4,
  "nbformat_minor": 5
}
